{
  "cells": [
    {
      "cell_type": "markdown",
      "metadata": {
        "id": "Sa13T7D9FNOn"
      },
      "source": [
        "# Python Basics and Model Optimization Fundamentals\n",
        "\n",
        "Welcome to your first homework. This exercise will introduce you to key Python functions and concepts, even if you've used Python before. This homework will guide the development of the building blocks for your own neural network model.\n",
        "\n",
        "In this homework, you will\n",
        "- Work with Python and Numpy to better understand matrix operations, dimensions, and interactions.\n",
        "- You will also learn how to compute function parameter gradients and update these parameters to create a classification model.\n",
        "\n",
        "**Instructions:**\n",
        "- Use Python3 for all exercises.\n",
        "- Install Numpy, MatplotLib, Pillow (pip3 install numpy, matplotlib, pillow)\n",
        "- Install PyTorch and its components. This a little more elaborate because it is system dependent. Make sure you install torchvision for datasets. You will not use PyTorch in this homework. We are using the Torch library for easy access to datasets.\n",
        "- Run all test cells for a superficial test of your functions. These tests are designed to help you with your assignment but do not rely on them for complete correctness. Your code will be assessed on a separate more comprehensive test set.\n",
        "\n",
        "**Note on Numpy:**\n",
        "- Numpy is a primary package for scientific computing in Python, and it's maintained by a large community (www.numpy.org). In this exercise, you will learn various crucial numpy functions such as `np.exp`, `np.log`, and `np.reshape`. It's essential to understand how to use these functions for your deep learning journey.\n",
        "\n",
        "**Note on Jupyter Notebooks:**\n",
        "- Remember to re-run cells from the start when restarting kernel.\n",
        "- You can run a cell with the keyboard shortcut shift+enter\n"
      ]
    },
    {
      "cell_type": "code",
      "execution_count": 705,
      "metadata": {
        "id": "y_-6sOBSFNOp"
      },
      "outputs": [],
      "source": [
        "# version 1.0"
      ]
    },
    {
      "cell_type": "markdown",
      "metadata": {
        "id": "wI3tLtr2FNOp"
      },
      "source": [
        "## 1. Python Basics (20 Pts)\n"
      ]
    },
    {
      "cell_type": "markdown",
      "metadata": {
        "id": "1ztj2rb4FNOq"
      },
      "source": [
        "### Import needed Python libraries and functions [Do not Change]"
      ]
    },
    {
      "cell_type": "code",
      "execution_count": 706,
      "metadata": {
        "id": "RfbR9mP9FNOq"
      },
      "outputs": [],
      "source": [
        "import numpy as np\n",
        "import matplotlib.pyplot as plt\n",
        "import torch\n",
        "import torchvision.datasets as datasets\n",
        "import copy\n",
        "from PIL import Image\n",
        "from PIL import ImageEnhance\n",
        "from PIL import ImageChops"
      ]
    },
    {
      "cell_type": "markdown",
      "metadata": {
        "id": "4PBpy6C1FNOq"
      },
      "source": [
        "If  the cell above executed without issues, you can continue. Otherwise, check your Python, Numpy, PyTorch, Matplotlib, and Pillow installations."
      ]
    },
    {
      "cell_type": "markdown",
      "metadata": {
        "id": "AiAQrwYWFNOq"
      },
      "source": [
        "### 1.0. Quick Python and PyTorch test"
      ]
    },
    {
      "cell_type": "code",
      "execution_count": 707,
      "metadata": {
        "colab": {
          "base_uri": "https://localhost:8080/"
        },
        "id": "iqjOeNM7FNOq",
        "outputId": "bc9f22d2-f5fa-4e14-e768-fec60df0ea24"
      },
      "outputs": [
        {
          "output_type": "stream",
          "name": "stdout",
          "text": [
            "Python is working\n",
            "Torch is working\n"
          ]
        }
      ],
      "source": [
        "\n",
        "# YOUR CODE STARTS HERE\n",
        "test= \"Python is working\"\n",
        "print(test)\n",
        "\n",
        "test = torch.rand(5, 3)\n",
        "if(test is not None):\n",
        "    print(\"Torch is working\")\n",
        "# YOUR CODE ENDS HERE"
      ]
    },
    {
      "cell_type": "markdown",
      "metadata": {
        "id": "GJnr8JtmFNOr"
      },
      "source": [
        "### 1.1 - Building sigmoid function with Numpy with np.exp()  (Points 3)\n",
        "\n",
        "Build a function that returns the sigmoid of a numpy real vector or matrix $x$.\n",
        "\n",
        "**Reminder**:\n",
        "$sigmoid(x) = \\frac{1}{1+e^{-x}}$\n",
        "\n",
        "This function is sometimes also known as the logistic function. It is a non-linear function used not only in Machine Learning (Logistic Regression), but also in Deep Learning."
      ]
    },
    {
      "cell_type": "code",
      "execution_count": 708,
      "metadata": {
        "id": "NDEOBEG3FNOr"
      },
      "outputs": [],
      "source": [
        "def sigmoid(x):\n",
        "    \"\"\"\n",
        "    Compute sigmoid of x.\n",
        "\n",
        "    Arguments:\n",
        "    x -- A scalar or numpy vector or matrix\n",
        "\n",
        "    Return:\n",
        "    s -- sigmoid(x)\n",
        "    \"\"\"\n",
        "\n",
        "    # YOUR CODE STARTS HERE\n",
        "    s = 1 / (1 + np.exp(-x))\n",
        "    # YOUR CODE ENDS HERE\n",
        "\n",
        "    return s"
      ]
    },
    {
      "cell_type": "code",
      "execution_count": 709,
      "metadata": {
        "colab": {
          "base_uri": "https://localhost:8080/"
        },
        "id": "2CW6SF8LFNOs",
        "outputId": "73952633-4b3e-444f-a5c7-0da7bdf9fee8"
      },
      "outputs": [
        {
          "output_type": "stream",
          "name": "stdout",
          "text": [
            "sigmoid([1]) = [0.73105858]\n",
            "Test passed\n"
          ]
        }
      ],
      "source": [
        "# Create numpy array\n",
        "a = np.array([1])\n",
        "\n",
        "print(\"sigmoid([1]) = \" + str(sigmoid(a)))\n",
        "\n",
        "if(sigmoid(a)[0] ==  0.7310585786300049):\n",
        "    print(\"Test passed\")"
      ]
    },
    {
      "cell_type": "markdown",
      "metadata": {
        "id": "6YBfNRW4FNOs"
      },
      "source": [
        "### 1.2- Build Sigmoid Gradient (Points 3)\n",
        "Computing gradients is an important step in backpropagation. In this exercise, you will compute the gradient (i.e., derivative) of the sigmoid function.\n",
        "\n",
        "**Recall**\n",
        "$$sigmoid\\_derivative(x) = \\sigma'(x) = \\sigma(x) (1 - \\sigma(x))\\tag{2}$$"
      ]
    },
    {
      "cell_type": "code",
      "execution_count": 710,
      "metadata": {
        "id": "lfdGNGLpFNOs"
      },
      "outputs": [],
      "source": [
        "def sigmoid_gradient(x):\n",
        "    \"\"\"\n",
        "    Compute the gradient (also called the slope or derivative) of the sigmoid function with respect to its input x.\n",
        "\n",
        "    Arguments:\n",
        "    x -- A scalar or numpy array\n",
        "\n",
        "    Return:\n",
        "    ds -- Your computed gradient.\n",
        "    \"\"\"\n",
        "\n",
        "    # YOUR CODE STARTS HERE\n",
        "    s = sigmoid(x)\n",
        "    ds = s * (1 - s)\n",
        "    # YOUR CODE ENDS HERE\n",
        "\n",
        "    return ds"
      ]
    },
    {
      "cell_type": "code",
      "execution_count": 711,
      "metadata": {
        "colab": {
          "base_uri": "https://localhost:8080/"
        },
        "id": "gatbPazwFNOs",
        "outputId": "c4494710-4d57-4e93-b888-e4416fcb5e7c"
      },
      "outputs": [
        {
          "output_type": "stream",
          "name": "stdout",
          "text": [
            "sigmoid_gradient(a) = [0.19661193 0.10499359 0.04517666]\n",
            "Test passed\n"
          ]
        }
      ],
      "source": [
        "a = np.array([1, 2, 3])\n",
        "print (\"sigmoid_gradient(a) = \" + str(sigmoid_gradient(a)))\n",
        "\n",
        "if (np.array_equiv(np.round(sigmoid_gradient(a),8), np.array([0.19661193, 0.10499359, 0.04517666]))) :\n",
        "    print(\"Test passed\")"
      ]
    },
    {
      "cell_type": "markdown",
      "metadata": {
        "id": "dyATyCx7FNOs"
      },
      "source": [
        "### 1.3- Vectorize Image (Points 4)\n",
        "\n",
        "Implement `image2vector()` that takes an input of shape (length, height, depth) and returns a vector of shape (length\\*height\\*depth, 1).\n",
        "- Don't hardcode the dimensions of image as a constant. Instead look up the quantities you need with `image.shape[0]`, etc."
      ]
    },
    {
      "cell_type": "code",
      "execution_count": 712,
      "metadata": {
        "id": "W9xUKmwnFNOs"
      },
      "outputs": [],
      "source": [
        "def image2vector(image):\n",
        "    \"\"\"\n",
        "    Argument:\n",
        "    image -- a numpy array of shape (length, height, depth)\n",
        "\n",
        "    Returns:\n",
        "    v -- a vector of shape (length*height*depth, 1)\n",
        "    \"\"\"\n",
        "\n",
        "    # YOUR CODE STARTS HERE\n",
        "    length, height, depth = image.shape\n",
        "\n",
        "    # Reshape the image into a vector\n",
        "    v = image.reshape((length * height * depth, 1))\n",
        "    # YOUR CODE ENDS HERE\n",
        "\n",
        "    return v"
      ]
    },
    {
      "cell_type": "code",
      "execution_count": 713,
      "metadata": {
        "colab": {
          "base_uri": "https://localhost:8080/"
        },
        "id": "A3i0h0HdFNOt",
        "outputId": "06e5846c-9389-4a75-f2ac-709a2b279f52"
      },
      "outputs": [
        {
          "output_type": "stream",
          "name": "stdout",
          "text": [
            "Test passed\n"
          ]
        }
      ],
      "source": [
        "# Test\n",
        "a_image = np.array([[[ 0.67826139,  0.29380381],\n",
        "                     [ 0.90714982,  0.52835647],\n",
        "                     [ 0.4215251 ,  0.45017551]],\n",
        "\n",
        "                   [[ 0.92814219,  0.96677647],\n",
        "                    [ 0.85304703,  0.52351845],\n",
        "                    [ 0.19981397,  0.27417313]],\n",
        "\n",
        "                   [[ 0.60659855,  0.00533165],\n",
        "                    [ 0.10820313,  0.49978937],\n",
        "                    [ 0.34144279,  0.94630077]]])\n",
        "\n",
        "vec_arr = image2vector(a_image)\n",
        "if (vec_arr[0]==0.67826139) & (vec_arr[6]==0.92814219) & (vec_arr[17]==0.94630077) & (vec_arr.shape[0]==18):\n",
        "    print(\"Test passed\")"
      ]
    },
    {
      "cell_type": "markdown",
      "metadata": {
        "id": "4hQe5u4iFNOt"
      },
      "source": [
        "### 1.4 Implement the L1 and L2 loss functions (Points 5)\n",
        "\n",
        "**Reminder**:\n",
        "- The loss is used to evaluate the performance of your model. The bigger your loss is, the more different your predictions ($ \\hat{y} $) are from the true values ($y$). In deep learning, you use optimization algorithms like Gradient Descent to train your model and to minimize the cost.\n",
        "- L1 loss is defined as:\n",
        "$$\\begin{align*} & L_1(\\hat{y}, y) = \\sum_{i=0}^{m-1}|y^{(i)} - \\hat{y}^{(i)}| \\end{align*}\\tag{6}$$\n",
        "- L2 loss is defined as $$\\begin{align*} & L_2(\\hat{y},y) = \\sum_{i=0}^{m-1}(y^{(i)} - \\hat{y}^{(i)})^2 \\end{align*}\\tag{7}$$"
      ]
    },
    {
      "cell_type": "code",
      "execution_count": 714,
      "metadata": {
        "id": "T6wEwHotFNOt"
      },
      "outputs": [],
      "source": [
        "def L1(yhat, y):\n",
        "    \"\"\"\n",
        "    Arguments:\n",
        "    yhat -- vector of size m (predicted labels)\n",
        "    y -- vector of size m (true labels)\n",
        "\n",
        "    Returns:\n",
        "    loss -- the value of the L1 loss function defined above\n",
        "    \"\"\"\n",
        "\n",
        "    #(≈ 1 line of code)\n",
        "    # loss =\n",
        "    # YOUR CODE STARTS HERE\n",
        "    loss = np.sum(np.abs(y - yhat))\n",
        "    # YOUR CODE ENDS HERE\n",
        "\n",
        "    return loss\n",
        "\n",
        "def L2(yhat, y):\n",
        "    \"\"\"\n",
        "    Arguments:\n",
        "    yhat -- vector of size m (predicted labels)\n",
        "    y -- vector of size m (true labels)\n",
        "\n",
        "    Returns:\n",
        "    loss -- the value of the L2 loss function defined above\n",
        "    \"\"\"\n",
        "\n",
        "    #(≈ 1 line of code)\n",
        "    # loss = ...\n",
        "    # YOUR CODE STARTS HERE\n",
        "    loss = np.sum(np.square(y - yhat))\n",
        "    # YOUR CODE ENDS HERE\n",
        "\n",
        "    return loss"
      ]
    },
    {
      "cell_type": "code",
      "execution_count": 715,
      "metadata": {
        "colab": {
          "base_uri": "https://localhost:8080/"
        },
        "id": "wnjBvVMXFNOt",
        "outputId": "e391120f-6716-41ac-ddc8-df072af2e68d"
      },
      "outputs": [
        {
          "output_type": "stream",
          "name": "stdout",
          "text": [
            "Test passed\n"
          ]
        }
      ],
      "source": [
        "yhat = np.array([.9, 0.2, 0.1, .4, .9])\n",
        "y = np.array([1, 0, 0, 1, 1])\n",
        "if (round(L1(yhat, y),5)==1.10000) & (round(L2(yhat, y),5)==0.43000):\n",
        "    print(\"Test passed\")"
      ]
    },
    {
      "cell_type": "markdown",
      "metadata": {
        "id": "XC1k5vmhFNOt"
      },
      "source": [
        "### 1.5 - Normalizing rows (Points 5)\n",
        "\n",
        "Another common technique we use in Machine Learning and Deep Learning is to normalize our data. It often leads to a better performance because gradient descent converges faster after normalization. Here, by normalization we mean changing x to $ \\frac{x}{\\| x\\|} $ (dividing each row vector of x by its norm).\n",
        "\n",
        "For example, if\n",
        "$$x = \\begin{bmatrix}\n",
        "        0 & 3 & 4 \\\\\n",
        "        2 & 6 & 4 \\\\\n",
        "\\end{bmatrix}\\tag{3}$$\n",
        "then\n",
        "$$\\| x\\| = \\text{np.linalg.norm(x, axis=1, keepdims=True)} = \\begin{bmatrix}\n",
        "    5 \\\\\n",
        "    \\sqrt{56} \\\\\n",
        "\\end{bmatrix}\\tag{4} $$\n",
        "and\n",
        "$$ x\\_normalized = \\frac{x}{\\| x\\|} = \\begin{bmatrix}\n",
        "    0 & \\frac{3}{5} & \\frac{4}{5} \\\\\n",
        "    \\frac{2}{\\sqrt{56}} & \\frac{6}{\\sqrt{56}} & \\frac{4}{\\sqrt{56}} \\\\\n",
        "\\end{bmatrix}\\tag{5}$$\n",
        "\n",
        "\n",
        "With `keepdims=True` the result will broadcast correctly against the original x.\n",
        "\n",
        "`axis=1` means you are going to get the norm in a row-wise manner. If you need the norm in a column-wise way, you would need to set `axis=0`.\n",
        "\n",
        "numpy.linalg.norm has another parameter `ord` where we specify the type of normalization to be done (in the exercise below you'll do 2-norm). To get familiar with the types of normalization you can visit [numpy.linalg.norm](https://numpy.org/doc/stable/reference/generated/numpy.linalg.norm.html)\n",
        "\n",
        "\\\n",
        "\\\n",
        "**Implement normalize_rows**\n",
        "\n",
        "Implement normalizeRows() to normalize the rows of a matrix. After applying this function to an input matrix x, each row of x should be a vector of unit length (meaning length 1)."
      ]
    },
    {
      "cell_type": "code",
      "execution_count": 716,
      "metadata": {
        "id": "4G0n6_rPFNOt"
      },
      "outputs": [],
      "source": [
        "def normalize_rows(x):\n",
        "    \"\"\"\n",
        "    Implement a function that normalizes each row of the matrix x (to have unit length).\n",
        "\n",
        "    Argument:\n",
        "    x -- A numpy matrix of shape (n, m)\n",
        "\n",
        "    Returns:\n",
        "    x -- The normalized (by row) numpy matrix.\n",
        "    \"\"\"\n",
        "\n",
        "    # YOUR CODE STARTS HERE\n",
        "    x_norm = np.linalg.norm(x, axis=1, keepdims=True)\n",
        "    x_normalized = x / x_norm\n",
        "\n",
        "    # YOUR CODE ENDS HERE\n",
        "\n",
        "    return x_normalized"
      ]
    },
    {
      "cell_type": "code",
      "execution_count": 717,
      "metadata": {
        "colab": {
          "base_uri": "https://localhost:8080/"
        },
        "id": "hnIp2rfPFNOu",
        "outputId": "60909950-cf9b-40ba-809b-241c8f11ae97"
      },
      "outputs": [
        {
          "output_type": "stream",
          "name": "stdout",
          "text": [
            "normalizeRows(x) = [[0.      0.39392 0.91915]\n",
            " [0.1543  0.77152 0.61721]]\n",
            "Test Passed\n"
          ]
        }
      ],
      "source": [
        "x = np.array([[0., 3., 7.],\n",
        "              [1., 5., 4.]])\n",
        "x_norm = np.round(normalize_rows(x), 5)\n",
        "x_norm_true = np.round(np.array([[0., 0.3939193, 0.91914503],\n",
        "                        [0.15430335, 0.77151675, 0.6172134 ]]), 5)\n",
        "print(\"normalizeRows(x) = \" + str(x_norm))\n",
        "\n",
        "if((x_norm_true==x_norm).all()):\n",
        "    print(\"Test Passed\")"
      ]
    },
    {
      "cell_type": "markdown",
      "metadata": {
        "id": "tAZLq6Z7FNOu"
      },
      "source": [
        "## 2. Logistic Regression Model with NN Mindset (Points 50)\n",
        "\n",
        "You will build a binary classification model using the logistic regression technique discussed in class. The model will discriminate the handwritten numbers zero and one from the MNIST dataset.\n",
        "\n",
        "**Instructions**\n",
        "- Download the MNIST dataset using the provided functions.\n",
        "    - You will need to install PyTorch and Torchvision for the data loading functions to work.\n",
        "    - The data loader functions will load the dataset to your local jupyter notebook root folder.\n",
        "    - Make sure you have write permissions.\n",
        "- You will build the following functions\n",
        "    - Sigmoid function (Completed above)\n",
        "    - Sigmoid derivative (Completed above)\n",
        "    - Parameter initialization\n",
        "    - Cost and gradient computations\n",
        "    - Optimization\n",
        "    - Model (integrates all the functions above)\n",
        "    - Use the learned parameters to predict labels on test data\n",
        "- Experiment with learning rates\n",
        "- Analyze results"
      ]
    },
    {
      "cell_type": "markdown",
      "metadata": {
        "id": "mV5q4expFNOu"
      },
      "source": [
        "### 2.0 Load dataset [DO NOT CHANGE]\n",
        "\n",
        "This code uses PyTorch torch and torchvision libraries to download the dataset from the web to your computer and then load the train and testing datasets to memory in the desired shape. Please do not change this code in anyway, because it can break the code  generated by the instructor.\n",
        "\n",
        "It will be good to look into a PyTorch tutorial to learn more about these functions.\n",
        "See link : https://pytorch.org/tutorials/beginner/basics/intro.html\n",
        "\n",
        "The cell below will display one image example to ensure proper function of the code."
      ]
    },
    {
      "cell_type": "code",
      "execution_count": 718,
      "metadata": {
        "colab": {
          "base_uri": "https://localhost:8080/",
          "height": 448
        },
        "id": "0VrS9w05FNOu",
        "outputId": "f94fe20c-5251-4d7a-bdea-283056635c56"
      },
      "outputs": [
        {
          "output_type": "stream",
          "name": "stdout",
          "text": [
            "Label y = [0]. This is handwritten \"0 - zero\" picture.\n"
          ]
        },
        {
          "output_type": "display_data",
          "data": {
            "text/plain": [
              "<Figure size 640x480 with 1 Axes>"
            ],
            "image/png": "[encoded data removed]"
          },
          "metadata": {}
        }
      ],
      "source": [
        "# DO NOT CHANGE CODE BELOW\n",
        "#\n",
        "\n",
        "# Download dataset from PyTorch website\n",
        "data = datasets.MNIST(root='./data', train=True, download=True, transform=None)\n",
        "\n",
        "# Load train data to memory\n",
        "loader = torch.utils.data.DataLoader(data, batch_size=1)\n",
        "data_set_x_orig = (loader.dataset.data).numpy()\n",
        "data_set_y = (loader.dataset.targets).numpy().reshape(-1,1).T\n",
        "classes = loader.dataset.classes\n",
        "\n",
        "# Leave 1s and 0s on dataset\n",
        "I1 = (data_set_y < 2)\n",
        "data_set_x_orig = data_set_x_orig[I1.reshape(-1), :, :]\n",
        "data_set_y = (data_set_y[I1].reshape(-1,1).T)\n",
        "\n",
        "\n",
        "#Let's split training set in training and test set\n",
        "mm = int(0.5*data_set_x_orig.shape[0])\n",
        "train_set_x_orig = data_set_x_orig[:mm, :, :]\n",
        "train_set_y = data_set_y[:,:mm]\n",
        "test_set_x_orig = data_set_x_orig[mm+1:, :, :]\n",
        "test_set_y = data_set_y[:,mm+1:]\n",
        "\n",
        "\n",
        "#Display example of picture\n",
        "index = 0\n",
        "x = train_set_x_orig[index]\n",
        "y = train_set_y[:, index]\n",
        "c = classes[int(y.item())]\n",
        "plt.imshow(train_set_x_orig[index])\n",
        "print (\"Label y = \" + str(y) + \". This is handwritten \\\"\" + c +  \"\\\" picture.\")\n",
        "\n",
        "#\n",
        "# DO NOT CHANGE CODE ABOVE"
      ]
    },
    {
      "cell_type": "markdown",
      "metadata": {
        "id": "mHgd9vGvFNOu"
      },
      "source": [
        "### 2.1 Print dimensions of data arrays (Points 3)\n",
        "Find the values for:\n",
        "- m_train (number of training examples)\n",
        "- m_test (number of test examples)\n",
        "- num_px (= height = width of a training image)\n",
        "\n",
        "Remember that `train_set_x_orig` is a numpy-array of shape (m_train, num_px, num_px, depth). For instance, you can access `m_train` by writing `train_set_x_orig.shape[0]`. For this experiment, we are working with grayscale images. So, depth is 1."
      ]
    },
    {
      "cell_type": "code",
      "execution_count": 719,
      "metadata": {
        "colab": {
          "base_uri": "https://localhost:8080/"
        },
        "id": "OlaZjyluFNOu",
        "outputId": "31541486-ad05-46a6-aab7-c03fcf36c34f"
      },
      "outputs": [
        {
          "output_type": "stream",
          "name": "stdout",
          "text": [
            "Number of training examples: m_train = 6332\n",
            "Number of testing examples: m_test = 6332\n",
            "Height/Width of each image: num_px = 28\n",
            "Each image is of size: (28, 28, 1)\n",
            "train_set_x shape: (6332, 28, 28)\n",
            "train_set_y shape: (1, 6332)\n",
            "test_set_x shape: (6332, 28, 28)\n",
            "test_set_y shape: (1, 6332)\n"
          ]
        }
      ],
      "source": [
        "#################################\n",
        "# Data arrays\n",
        "#   - train_set_x_orig\n",
        "#   - train_set_y\n",
        "#   - test_set_x_orig\n",
        "#   - test_set_y\n",
        "#################################\n",
        "\n",
        "# YOUR CODE STARTS HERE\n",
        "m_train = train_set_x_orig.shape[0]\n",
        "m_test = test_set_x_orig.shape[0]\n",
        "num_px = train_set_x_orig.shape[1]\n",
        "# YOUR CODE ENDS HERE\n",
        "\n",
        "print (\"Number of training examples: m_train = \" + str(m_train))\n",
        "print (\"Number of testing examples: m_test = \" + str(m_test))\n",
        "print (\"Height/Width of each image: num_px = \" + str(num_px))\n",
        "print (\"Each image is of size: (\" + str(num_px) + \", \" + str(num_px) + \", 1)\")\n",
        "print (\"train_set_x shape: \" + str(train_set_x_orig.shape))\n",
        "print (\"train_set_y shape: \" + str(train_set_y.shape))\n",
        "print (\"test_set_x shape: \" + str(test_set_x_orig.shape))\n",
        "print (\"test_set_y shape: \" + str(test_set_y.shape))"
      ]
    },
    {
      "cell_type": "markdown",
      "metadata": {
        "id": "AZPZ_6FNFNOu"
      },
      "source": [
        "Before proceeding ensure:\n",
        "- Number of training samples: 6332\n",
        "- Number of test samples: 6332\n",
        "- Size of images: 28 x 28 x 1"
      ]
    },
    {
      "cell_type": "markdown",
      "metadata": {
        "id": "FBeHu2hcFNOu"
      },
      "source": [
        "### 2.2 Flatten input images (matrices) (Points 2)\n",
        "As discussed in class, we need to flatten input matrices before ingesting them into our model. In this exercise you will perform that operation.\n",
        "\n",
        "Reshape the training and test data sets so that images of size (num_px, num_px, 1) are flattened into single vectors of shape (num\\_px $*$ num\\_px $*$ 1, 1).\n",
        "\n",
        "A trick when you want to flatten a matrix X of shape (a,b,c,d) to a matrix X_flatten of shape (b$*$c$*$d, a) is to use:\n",
        "```python\n",
        "X_flatten = X.reshape(X.shape[0], -1).T      # X.T is the transpose of X\n",
        "```"
      ]
    },
    {
      "cell_type": "code",
      "execution_count": 720,
      "metadata": {
        "colab": {
          "base_uri": "https://localhost:8080/"
        },
        "id": "kk5Il8p_FNOu",
        "outputId": "e50701b4-9f56-401e-dbf4-f75dffae1f0e"
      },
      "outputs": [
        {
          "output_type": "stream",
          "name": "stdout",
          "text": [
            "train_set_x_flatten shape: (784, 6332)\n",
            "train_set_y shape: (1, 6332)\n",
            "test_set_x_flatten shape: (784, 6332)\n",
            "test_set_y shape: (1, 6332)\n"
          ]
        }
      ],
      "source": [
        "# Reshape the training and test examples\n",
        "# train_set_x_flatten = ...\n",
        "# test_set_x_flatten = ...\n",
        "\n",
        "# YOUR CODE STARTS HERE\n",
        "train_set_x_flatten = train_set_x_orig.reshape(train_set_x_orig.shape[0], -1).T\n",
        "test_set_x_flatten = test_set_x_orig.reshape(test_set_x_orig.shape[0], -1).T\n",
        "# YOUR CODE ENDS HERE\n",
        "\n",
        "print (\"train_set_x_flatten shape: \" + str(train_set_x_flatten.shape))\n",
        "print (\"train_set_y shape: \" + str(train_set_y.shape))\n",
        "print (\"test_set_x_flatten shape: \" + str(test_set_x_flatten.shape))\n",
        "print (\"test_set_y shape: \" + str(test_set_y.shape))"
      ]
    },
    {
      "cell_type": "markdown",
      "metadata": {
        "id": "sc1_Vdy6FNOv"
      },
      "source": [
        "**Expected Output**:\n",
        "\n",
        "<table style=\"width:35%\">\n",
        "  <tr>\n",
        "    <td>train_set_x_flatten shape</td>\n",
        "    <td> (784, 6332) </td>\n",
        "  </tr>\n",
        "  <tr>\n",
        "    <td>train_set_y shape</td>\n",
        "    <td>(1, 6332)</td>\n",
        "  </tr>\n",
        "  <tr>\n",
        "    <td>test_set_x_flatten shape</td>\n",
        "    <td>(784, 6332)</td>\n",
        "  </tr>\n",
        "  <tr>\n",
        "    <td>test_set_y shape</td>\n",
        "    <td>(1, 6332)</td>\n",
        "  </tr>\n",
        "</table>"
      ]
    },
    {
      "cell_type": "markdown",
      "metadata": {
        "id": "bbHbwwUHFNOv"
      },
      "source": [
        "### 2.3 Standardize input values (Points 3)\n",
        "\n",
        "A critical step in machine learning is to standardize the inputs. This helps with quick convergence of the model's training cost.\n",
        "\n",
        "RGB images (as the input in this dataset) have pixel integer values from 0-255. We will normalize these values to the floating point range of 0.-1.\n",
        "\n",
        "Write code to standardize the flatten dataset from 0-255 to 0.-1 (float).\n",
        "\n",
        "We will later learn in the class other techniques to standardize our datasets."
      ]
    },
    {
      "cell_type": "code",
      "execution_count": 721,
      "metadata": {
        "id": "-viWEMisFNOv"
      },
      "outputs": [],
      "source": [
        "#####\n",
        "# Standardize train_set_x_flatten and test_set_x_flatten into...\n",
        "# train_set_x = ...\n",
        "# test_set_x = ...\n",
        "\n",
        "# YOUR CODE STARTS HERE\n",
        "train_set_x = train_set_x_flatten / 255.0\n",
        "test_set_x = test_set_x_flatten / 255.0\n",
        "# YOUR CODE ENDS HERE"
      ]
    },
    {
      "cell_type": "markdown",
      "metadata": {
        "id": "tl7TI7zHFNOv"
      },
      "source": [
        "### 2.4 Sigmoid function and its derivative\n",
        "We already implemented the sigmoid function and its derivative in part 1 of this homework.\n",
        "\n",
        "Below is a simple test to ensure the functions are defined and working properly. Guess what, we only need the sigmoid function to update our parameters."
      ]
    },
    {
      "cell_type": "code",
      "execution_count": 722,
      "metadata": {
        "colab": {
          "base_uri": "https://localhost:8080/"
        },
        "id": "kke3GNUPFNOv",
        "outputId": "300d82d2-8e4a-47ce-a1de-9c675941a40d"
      },
      "outputs": [
        {
          "output_type": "stream",
          "name": "stdout",
          "text": [
            "sigmoid([0,2]) = [0.5    0.8808]\n",
            "Test passed\n"
          ]
        }
      ],
      "source": [
        "# Create numpy array\n",
        "a = np.round(np.array([0,2]), 5)\n",
        "b = np.round(sigmoid(a), 5)\n",
        "\n",
        "print(\"sigmoid([0,2]) = \" + str(b))\n",
        "\n",
        "if((b==np.array([0.5, 0.8808])).all()):\n",
        "    print(\"Test passed\")"
      ]
    },
    {
      "cell_type": "markdown",
      "metadata": {
        "id": "MjVhFFvMFNOv"
      },
      "source": [
        "### 2.5 Initialize parameters function (Points 2)\n",
        "Implement parameter initialization in the cell below. You have to initialize w as a vector of zeros. If you don't know what numpy function to use, look up np.zeros() in the Numpy library's documentation."
      ]
    },
    {
      "cell_type": "code",
      "execution_count": 723,
      "metadata": {
        "id": "t4A44pnRFNOv"
      },
      "outputs": [],
      "source": [
        "def initialize_with_zeros(dim):\n",
        "    \"\"\"\n",
        "    This function creates a vector of zeros of shape (dim, 1) for w and initializes b to 0.\n",
        "\n",
        "    Argument:\n",
        "    dim -- size of the w vector we want (or number of parameters in this case)\n",
        "\n",
        "    Returns:\n",
        "    w -- initialized vector of shape (dim, 1)\n",
        "    b -- initialized scalar (corresponds to the bias) of type float\n",
        "    \"\"\"\n",
        "\n",
        "    # (≈ 2 lines of code)\n",
        "    # w = ...\n",
        "    # b = ...\n",
        "    # YOUR CODE STARTS HERE\n",
        "    w = np.zeros((dim, 1))\n",
        "    b = 0.0\n",
        "    # YOUR CODE ENDS HERE\n",
        "\n",
        "    return w, b"
      ]
    },
    {
      "cell_type": "code",
      "execution_count": 724,
      "metadata": {
        "colab": {
          "base_uri": "https://localhost:8080/"
        },
        "id": "eVDBWZp8FNOv",
        "outputId": "2f0d199a-a872-45f6-ddc7-99b04c629f26"
      },
      "outputs": [
        {
          "output_type": "stream",
          "name": "stdout",
          "text": [
            "w = [[0.]\n",
            " [0.]]\n",
            "b = 0.0\n",
            "Test passed\n"
          ]
        }
      ],
      "source": [
        "dim = 2\n",
        "w, b = initialize_with_zeros(dim)\n",
        "\n",
        "assert type(b) == float\n",
        "print (\"w = \" + str(w))\n",
        "print (\"b = \" + str(b))\n",
        "\n",
        "if((w==np.array([0., 0.])).all()):\n",
        "    print(\"Test passed\")"
      ]
    },
    {
      "cell_type": "markdown",
      "metadata": {
        "id": "NHYJ5LpnFNO7"
      },
      "source": [
        "### 2.6 - Forward and Backward propagation (Points 20)\n",
        "\n",
        "Now that your parameters are initialized, you can do the \"forward\" and \"backward\" propagation steps for learning the parameters.\n",
        "\n",
        "Implement a function `propagate()` that computes the cost function and its gradient.\n",
        "\n",
        "**Hints**:\n",
        "\n",
        "Forward Propagation:\n",
        "- Input X, w, and b. The parameters w and b initialized with some arbitrary vector or number (e.g., vector of zeros or a zero).\n",
        "- You compute $A = \\sigma(w^T X + b) = (a^{(1)}, a^{(2)}, ..., a^{(m-1)}, a^{(m)})$\n",
        "- You calculate the cost function: $J = -\\frac{1}{m}\\sum_{i=1}^{m}(y^{(i)}\\log(a^{(i)})+(1-y^{(i)})\\log(1-a^{(i)}))$\n",
        "\n",
        "Here are the two formulas you will be using:\n",
        "\n",
        "$$ \\frac{\\partial J}{\\partial w} = \\frac{1}{m}X(A-Y)^T\\tag{7}$$\n",
        "$$ \\frac{\\partial J}{\\partial b} = \\frac{1}{m} \\sum_{i=1}^m (a^{(i)}-y^{(i)})\\tag{8}$$"
      ]
    },
    {
      "cell_type": "code",
      "execution_count": 725,
      "metadata": {
        "id": "PHl02G6rFNO7"
      },
      "outputs": [],
      "source": [
        "# GRADED FUNCTION: propagate\n",
        "\n",
        "def propagate(w, b, X, Y):\n",
        "    \"\"\"\n",
        "    Implement the cost function and its gradient for the propagation explained above\n",
        "\n",
        "    Arguments:\n",
        "    w -- weights, a numpy array of size (num_px * num_px * 1, 1)\n",
        "    b -- bias, a scalar\n",
        "    X -- data of size (num_px * num_px * 1, number of examples)\n",
        "    Y -- true \"label\" vector (containing 0 if image number is zero, 1 if image number is one) of size (1, number of examples)\n",
        "\n",
        "    Return:\n",
        "    grads -- dictionary containing the gradients of the weights and bias\n",
        "            (dw -- gradient of the loss with respect to w, thus same shape as w)\n",
        "            (db -- gradient of the loss with respect to b, thus same shape as b)\n",
        "    cost -- negative log-likelihood cost for logistic regression\n",
        "\n",
        "    Tips:\n",
        "    - Write your code step by step for the propagation. np.log(), np.dot()\n",
        "    \"\"\"\n",
        "\n",
        "    m = float(X.shape[1])\n",
        "\n",
        "    # FORWARD PROPAGATION (FROM X TO COST)\n",
        "    # compute activation\n",
        "    # A = ...\n",
        "    # compute cost by using np.dot to perform multiplication.\n",
        "    # And don't use loops for the sum.\n",
        "    # cost = ...\n",
        "    # YOUR CODE STARTS HERE\n",
        "    A = sigmoid(np.dot(w.T, X) + b)\n",
        "    cost = -(1 / m) * np.sum(Y * np.log(A) + (1 - Y) * np.log(1 - A))\n",
        "    # YOUR CODE ENDS HERE\n",
        "\n",
        "    # BACKWARD PROPAGATION (TO FIND GRAD)\n",
        "    # dw = ...\n",
        "    # db = ...\n",
        "    # YOUR CODE STARTS HERE\n",
        "    dw = (1 / m) * np.dot(X, (A - Y).T)\n",
        "    db = (1 / m) * np.sum(A - Y)\n",
        "    # YOUR CODE ENDS HERE\n",
        "    cost = np.squeeze(np.array(cost))\n",
        "\n",
        "\n",
        "    grads = {\"dw\": dw,\n",
        "             \"db\": db}\n",
        "\n",
        "    return grads, cost"
      ]
    },
    {
      "cell_type": "code",
      "execution_count": 726,
      "metadata": {
        "colab": {
          "base_uri": "https://localhost:8080/"
        },
        "id": "cZF_9dG9FNO7",
        "outputId": "3dddfd37-dabd-430c-db15-929e7b1af4b8"
      },
      "outputs": [
        {
          "output_type": "stream",
          "name": "stdout",
          "text": [
            "dw = [[ 0.25072]\n",
            " [-0.06604]]\n",
            "db = -0.125\n",
            "cost = 0.15901\n",
            "Test passed.\n"
          ]
        }
      ],
      "source": [
        "w =  np.array([[1.], [2]])\n",
        "b = 1.5\n",
        "X = np.array([[1., -2., -1.], [3., 0.5, -3.2]])\n",
        "Y = np.array([[1, 1, 0]])\n",
        "grads, cost = propagate(w, b, X, Y)\n",
        "\n",
        "dw = np.round(grads[\"dw\"],5)\n",
        "db = np.round(grads[\"db\"],5)\n",
        "cost = np.round(cost,5)\n",
        "\n",
        "assert type(dw) == np.ndarray\n",
        "assert dw.shape == (2, 1)\n",
        "assert type(db) == np.float64\n",
        "\n",
        "\n",
        "print (\"dw = \" + str(dw))\n",
        "print (\"db = \" + str(db))\n",
        "print (\"cost = \" + str(cost))\n",
        "\n",
        "if( (dw==np.array([[0.25072],[-0.06604]])).all() & (db.item()==-0.125) & (cost==0.15901)):\n",
        "    print(\"Test passed.\")"
      ]
    },
    {
      "cell_type": "markdown",
      "metadata": {
        "id": "tQI9cfsZFNO7"
      },
      "source": [
        "### 2.7 - Optimization (Points 5)\n",
        "- You have initialized your parameters.\n",
        "- You are also able to compute a cost function and its gradient.\n",
        "- Now, you want to update the parameters using gradient descent.\n",
        "\n",
        "Write down the optimization function. The goal is to learn $w$ and $b$ by minimizing the cost function $J$. For a parameter $\\theta$, the update rule is $ \\theta = \\theta - \\alpha \\text{ } d\\theta$, where $\\alpha$ is the learning rate."
      ]
    },
    {
      "cell_type": "code",
      "execution_count": 727,
      "metadata": {
        "id": "SmG9QUnSFNO7"
      },
      "outputs": [],
      "source": [
        "def optimize(w, b, X, Y, num_iterations=100, learning_rate=0.009, print_cost=False):\n",
        "    \"\"\"\n",
        "    This function optimizes w and b by running a gradient descent algorithm\n",
        "\n",
        "    Arguments:\n",
        "    w -- weights, a numpy array of size (num_px * num_px * 1, 1)\n",
        "    b -- bias, a scalar\n",
        "    X -- data of shape (num_px * num_px * 1, number of examples)\n",
        "    Y -- true \"label\" vector (containing 0 if non-cat, 1 if cat), of shape (1, number of examples)\n",
        "    num_iterations -- number of iterations of the optimization loop\n",
        "    learning_rate -- learning rate of the gradient descent update rule\n",
        "    print_cost -- True to print the loss every 100 steps\n",
        "\n",
        "    Returns:\n",
        "    params -- dictionary containing the weights w and bias b\n",
        "    grads -- dictionary containing the gradients of the weights and bias with respect to the cost function\n",
        "    costs -- list of all the costs computed during the optimization, this will be used to plot the learning curve.\n",
        "\n",
        "    Tips:\n",
        "    You basically need to write down two steps and iterate through them:\n",
        "        1) Calculate the cost and the gradient for the current parameters. Use propagate().\n",
        "        2) Update the parameters using gradient descent rule for w and b.\n",
        "    \"\"\"\n",
        "\n",
        "    w = copy.deepcopy(w)\n",
        "    b = copy.deepcopy(b)\n",
        "\n",
        "    costs = []\n",
        "\n",
        "    for i in range(num_iterations):\n",
        "\n",
        "\n",
        "        # Cost and gradient calculation\n",
        "        # grads, cost = ...\n",
        "        # YOUR CODE STARTS HERE\n",
        "        grads, cost = propagate(w, b, X, Y)\n",
        "\n",
        "        # YOUR CODE ENDS HERE\n",
        "\n",
        "        # Retrieve derivatives dw and db from grads\n",
        "        # YOUR CODE STARTS HERE\n",
        "        dw = grads[\"dw\"]\n",
        "        db = grads[\"db\"]\n",
        "\n",
        "        # YOUR CODE ENDS HERE\n",
        "\n",
        "        # update rule\n",
        "        # w = ...\n",
        "        # b = ...\n",
        "        # YOUR CODE STARTS HERE\n",
        "        w -= learning_rate * dw\n",
        "        b -= learning_rate * db\n",
        "\n",
        "        # YOUR CODE ENDS HERE\n",
        "\n",
        "        # Record the costs\n",
        "        if i % 100 == 0:\n",
        "            costs.append(cost)\n",
        "\n",
        "            # Print the cost every 100 training iterations\n",
        "            if print_cost:\n",
        "                print (\"Cost after iteration %i: %f\" %(i, cost))\n",
        "\n",
        "    params = {\"w\": w,\n",
        "              \"b\": b}\n",
        "\n",
        "    grads = {\"dw\": dw,\n",
        "             \"db\": db}\n",
        "\n",
        "    return params, grads, costs"
      ]
    },
    {
      "cell_type": "code",
      "execution_count": 728,
      "metadata": {
        "colab": {
          "base_uri": "https://localhost:8080/"
        },
        "id": "jFDCB9q4FNO8",
        "outputId": "909f0768-d2ad-4d3e-b104-a7d951b4a035"
      },
      "outputs": [
        {
          "output_type": "stream",
          "name": "stdout",
          "text": [
            "w = [[0.80956046]\n",
            " [2.0508202 ]]\n",
            "b = 1.5948713189708588\n",
            "dw = [[ 0.17860505]\n",
            " [-0.04840656]]\n",
            "db = -0.08888460336847771\n",
            "Costs = [array(0.15900538)]\n",
            "Test passed.\n"
          ]
        }
      ],
      "source": [
        "###########################\n",
        "# DO NOT CHANGE\n",
        "\n",
        "w =  np.array([[1.], [2]])\n",
        "b = 1.5\n",
        "X = np.array([[1., -2., -1.], [3., 0.5, -3.2]])\n",
        "Y = np.array([[1, 1, 0]])\n",
        "params, grads, costs = optimize(w, b, X, Y, num_iterations=100, learning_rate=0.009, print_cost=False)\n",
        "\n",
        "print (\"w = \" + str(params[\"w\"]))\n",
        "print (\"b = \" + str(params[\"b\"]))\n",
        "print (\"dw = \" + str(grads[\"dw\"]))\n",
        "print (\"db = \" + str(grads[\"db\"]))\n",
        "print(\"Costs = \" + str(costs))\n",
        "\n",
        "#checking first element of each variable only\n",
        "if ((np.round(params[\"w\"][0].item(),5)==0.80956) and\n",
        "    (np.round(params[\"b\"].item(),5)==1.59487) and\n",
        "    (np.round(grads[\"dw\"][0].item(),6)==0.178605) and\n",
        "    (np.round(grads[\"db\"].item(),5)==-0.08888) and\n",
        "    (np.round(costs[0].item(),4)==0.1590)):\n",
        "    print(\"Test passed.\")\n",
        "\n",
        "# DO NOT CHANGE\n",
        "###########################"
      ]
    },
    {
      "cell_type": "markdown",
      "metadata": {
        "id": "8XUGnrc1FNO8"
      },
      "source": [
        "### 2.8 Predict (Points 10)\n",
        "The **optimize** function will output the learned w and b. We are able to use w and b to predict the labels for a dataset X.\n",
        "\n",
        "#### 2.8.1 Implement the `predict_loop()` function. (Points 5)\n",
        "\n",
        "There are two steps to computing predictions:\n",
        "\n",
        "1. Calculate $\\hat{Y} = A = \\sigma(w^T X + b)$\n",
        "\n",
        "2. Convert the entries of a into 0 (if activation <= 0.5) or 1 (if activation > 0.5), stores the predictions in a vector `Y_prediction`.\n",
        "\n",
        "This implementation will use a *for loop* to iterate over the predictions. In the next exercise you will vectorize `predict_loop()` for faster execution."
      ]
    },
    {
      "cell_type": "code",
      "execution_count": 729,
      "metadata": {
        "id": "FoV-ndPnFNO8"
      },
      "outputs": [],
      "source": [
        "def predict_loop(w, b, X):\n",
        "    '''\n",
        "    Predict whether the label is 0 or 1 using learned logistic regression parameters (w, b)\n",
        "\n",
        "    Arguments:\n",
        "    w -- weights, a numpy array of size (num_px * num_px * 1, 1)\n",
        "    b -- bias, a scalar\n",
        "    X -- data of size (num_px * num_px * 1, number of examples)\n",
        "\n",
        "    Returns:\n",
        "    Y_prediction -- a numpy array (vector) containing all predictions (0/1) for the examples in X\n",
        "    '''\n",
        "\n",
        "    m = X.shape[1]\n",
        "    Y_prediction = np.zeros((1, m))\n",
        "    w = w.reshape(X.shape[0], 1)\n",
        "\n",
        "    # Compute vector \"A\" predicting the probabilities of a 1\n",
        "    # A = ...\n",
        "    # YOUR CODE STARTS HERE\n",
        "    A = sigmoid(np.dot(w.T, X) + b)\n",
        "    # YOUR CODE ENDS HERE\n",
        "\n",
        "    for i in range(A.shape[1]):\n",
        "\n",
        "        # Convert probabilities A[0,i] to actual predictions p[0,i]\n",
        "        #(≈ 4 lines of code)\n",
        "        # if A[0, i] > ____ :\n",
        "        #     Y_prediction[0,i] =\n",
        "        # else:\n",
        "        #     Y_prediction[0,i] =\n",
        "        # YOUR CODE STARTS HERE\n",
        "        if A[0, i] > 0.5:\n",
        "            Y_prediction[0,i] = 1\n",
        "        else:\n",
        "            Y_prediction[0,i] = 0\n",
        "\n",
        "        # YOUR CODE ENDS HERE\n",
        "\n",
        "    return Y_prediction"
      ]
    },
    {
      "cell_type": "code",
      "execution_count": 730,
      "metadata": {
        "colab": {
          "base_uri": "https://localhost:8080/"
        },
        "id": "oxZ7v7Z0FNO8",
        "outputId": "9b9c1504-327a-4be0-b4c5-06c9f4ea2766"
      },
      "outputs": [
        {
          "output_type": "stream",
          "name": "stdout",
          "text": [
            "predictions = [[1. 1. 0.]]\n",
            "Test passed.\n"
          ]
        }
      ],
      "source": [
        "w = np.array([[0.1124579], [0.23106775]])\n",
        "b = -0.3\n",
        "X = np.array([[1., -1.1, -3.2],[1.2, 2., 0.1]])\n",
        "YHAT = predict_loop(w, b, X)\n",
        "print (\"predictions = \" + str(YHAT))\n",
        "if((YHAT==np.array([[1.,1.,0.]])).all()):\n",
        "   print(\"Test passed.\")\n"
      ]
    },
    {
      "cell_type": "markdown",
      "metadata": {
        "id": "g2Rz4lIuFNO8"
      },
      "source": [
        "#### 2.8.2 Implement the `predict()` function. (Points 5)\n",
        "\n",
        "It is the vectorized version of `predict_loop()`."
      ]
    },
    {
      "cell_type": "code",
      "execution_count": 731,
      "metadata": {
        "id": "AaTLzsy7FNO8"
      },
      "outputs": [],
      "source": [
        "def predict(w, b, X):\n",
        "    '''\n",
        "    Predict whether the label is 0 or 1 using learned logistic regression parameters (w, b)\n",
        "\n",
        "    Arguments:\n",
        "    w -- weights, a numpy array of size (num_px * num_px * 1, 1)\n",
        "    b -- bias, a scalar\n",
        "    X -- data of size (num_px * num_px * 1, number of examples)\n",
        "\n",
        "    Returns:\n",
        "    Y_prediction -- a numpy array (vector) containing all predictions (0/1) for the examples in X\n",
        "    '''\n",
        "\n",
        "    w = w.reshape(X.shape[0], 1)\n",
        "\n",
        "    # Compute vector \"A\" predicting the probabilities of a cat being present in the picture\n",
        "    # A = ...\n",
        "    # Then, write a vectorized version of the loop in predict_loop() to compute Y_prediction\n",
        "    # Y_prediction = ...\n",
        "    # YOUR CODE STARTS HERE\n",
        "    w = w.reshape(X.shape[0], 1)\n",
        "\n",
        "    # Compute vector \"A\" predicting the probabilities of a 1\n",
        "    A = sigmoid(np.dot(w.T, X) + b)\n",
        "\n",
        "    # Convert probabilities A to actual predictions Y_prediction\n",
        "    #Y_prediction = np.where(A > 0.5, 1, 0)\n",
        "    Y_prediction = np.zeros(A.shape)\n",
        "    Y_prediction[0, A[0, :]>0.5] = 1\n",
        "    # YOUR CODE ENDS HERE\n",
        "\n",
        "    return Y_prediction"
      ]
    },
    {
      "cell_type": "code",
      "execution_count": 732,
      "metadata": {
        "colab": {
          "base_uri": "https://localhost:8080/"
        },
        "id": "IN7NqTUGFNO8",
        "outputId": "6f39eae4-a5e2-40a1-af0e-60ae37f2e0c8"
      },
      "outputs": [
        {
          "output_type": "stream",
          "name": "stdout",
          "text": [
            "predictions = [[1. 1. 0.]]\n",
            "Test passed.\n"
          ]
        }
      ],
      "source": [
        "w = np.array([[0.1124579], [0.23106775]])\n",
        "b = -0.3\n",
        "X = np.array([[1., -1.1, -3.2],[1.2, 2., 0.1]])\n",
        "YHAT = predict(w, b, X)\n",
        "print (\"predictions = \" + str(YHAT))\n",
        "if((YHAT==np.array([[1.,1.,0.]])).all()):\n",
        "   print(\"Test passed.\")"
      ]
    },
    {
      "cell_type": "markdown",
      "metadata": {
        "id": "4s7zMNU0FNO8"
      },
      "source": [
        "### 2.9 Integrate functions to generate a machine learning model (Points 5)\n",
        "\n",
        "You will now see how the overall model is structured by putting together all the building blocks (functions implemented in the previous parts) together, in the right order.\n",
        "\n",
        "Implement the model function. Use the following notation:\n",
        "- Y_prediction_test for your predictions on the test set\n",
        "- Y_prediction_train for your predictions on the train set\n",
        "- parameters, grads, costs for the outputs of optimize()"
      ]
    },
    {
      "cell_type": "code",
      "execution_count": 733,
      "metadata": {
        "id": "BRA2-bsiFNO8"
      },
      "outputs": [],
      "source": [
        "# GRADED FUNCTION: model\n",
        "\n",
        "def model(X_train, Y_train, X_test, Y_test, num_iterations=2000, learning_rate=0.5, print_cost=False):\n",
        "    \"\"\"\n",
        "    Builds the logistic regression model by calling the functions you've implemented previously\n",
        "\n",
        "    Arguments:\n",
        "    X_train -- training set represented by a numpy array of shape (num_px * num_px * 1, m_train)\n",
        "    Y_train -- training labels represented by a numpy array (vector) of shape (1, m_train)\n",
        "    X_test -- test set represented by a numpy array of shape (num_px * num_px * 1, m_test)\n",
        "    Y_test -- test labels represented by a numpy array (vector) of shape (1, m_test)\n",
        "    num_iterations -- hyperparameter representing the number of iterations to optimize the parameters\n",
        "    learning_rate -- hyperparameter representing the learning rate used in the update rule of optimize()\n",
        "    print_cost -- Set to True to print the cost every 100 iterations\n",
        "\n",
        "    Returns:\n",
        "    d -- dictionary containing information about the model.\n",
        "    \"\"\"\n",
        "    # (≈ 1 line of code)\n",
        "    # initialize parameters with zeros\n",
        "    # and use the \"shape\" function to get the first dimension of X_train\n",
        "    # w, b = ...\n",
        "\n",
        "    #(≈ 1 line of code)\n",
        "    # Gradient descent\n",
        "    # params, grads, costs = ...\n",
        "\n",
        "    # Retrieve parameters w and b from dictionary \"params\"\n",
        "    # w = ...\n",
        "    # b = ...\n",
        "\n",
        "    # Predict test/train set examples (≈ 2 lines of code)\n",
        "    # Y_prediction_test = ...\n",
        "    # Y_prediction_train = ...\n",
        "\n",
        "    # YOUR CODE STARTS HERE\n",
        "    # Initialize parameters with zeros\n",
        "    w, b = initialize_with_zeros(X_train.shape[0])\n",
        "\n",
        "    # Gradient descent\n",
        "    params, grads, costs = optimize(w, b, X_train, Y_train, num_iterations, learning_rate, print_cost)\n",
        "\n",
        "    # Retrieve parameters w and b from dictionary \"params\"\n",
        "    w = params[\"w\"]\n",
        "    b = params[\"b\"]\n",
        "\n",
        "    # Predict test/train set examples\n",
        "    Y_prediction_test = predict(w, b, X_test)\n",
        "    Y_prediction_train = predict(w, b, X_train)\n",
        "\n",
        "    # YOUR CODE ENDS HERE\n",
        "\n",
        "    # Print train/test Errors\n",
        "    train_accuracy = np.round(100 - np.mean(np.abs(Y_prediction_train - Y_train)) * 100,3)\n",
        "    test_accuracy = np.round(100 - np.mean(np.abs(Y_prediction_test - Y_test)) * 100,3)\n",
        "    if print_cost:\n",
        "        print(\"\\n\\n########################################\")\n",
        "        print(\"train accuracy: {} %\".format(train_accuracy))\n",
        "        print(\"test accuracy: {} %\".format(test_accuracy))\n",
        "        print(\"########################################\\n\")\n",
        "\n",
        "\n",
        "    d = {\"costs\": costs,\n",
        "         \"Y_prediction_test\": Y_prediction_test,\n",
        "         \"Y_prediction_train\" : Y_prediction_train,\n",
        "         \"w\" : w,\n",
        "         \"b\" : b,\n",
        "         \"learning_rate\" : learning_rate,\n",
        "         \"num_iterations\": num_iterations,\n",
        "         \"train_accuracy\": train_accuracy,\n",
        "         \"test_accuracy\": test_accuracy}\n",
        "\n",
        "    return d"
      ]
    },
    {
      "cell_type": "markdown",
      "metadata": {
        "id": "KMZLRRvtFNO9"
      },
      "source": [
        "#### Run your model"
      ]
    },
    {
      "cell_type": "code",
      "execution_count": 734,
      "metadata": {
        "colab": {
          "base_uri": "https://localhost:8080/"
        },
        "id": "jHLdCvqrFNO9",
        "outputId": "a09060d6-2e17-4f5d-cc21-3e5321feff16"
      },
      "outputs": [
        {
          "output_type": "stream",
          "name": "stdout",
          "text": [
            "Cost after iteration 0: 0.693147\n",
            "Cost after iteration 100: 0.118477\n",
            "Cost after iteration 200: 0.069830\n",
            "Cost after iteration 300: 0.051633\n",
            "Cost after iteration 400: 0.041947\n",
            "Cost after iteration 500: 0.035867\n",
            "Cost after iteration 600: 0.031663\n",
            "Cost after iteration 700: 0.028566\n",
            "Cost after iteration 800: 0.026179\n",
            "Cost after iteration 900: 0.024277\n",
            "\n",
            "\n",
            "########################################\n",
            "train accuracy: 99.747 %\n",
            "test accuracy: 99.716 %\n",
            "########################################\n",
            "\n"
          ]
        }
      ],
      "source": [
        "logistic_regression_model = model(train_set_x, train_set_y, test_set_x, test_set_y, num_iterations=1000, learning_rate=0.01, print_cost=True)"
      ]
    },
    {
      "cell_type": "markdown",
      "metadata": {
        "id": "t31TnRq5FNO9"
      },
      "source": [
        "#### Plot of training Cost"
      ]
    },
    {
      "cell_type": "code",
      "execution_count": 735,
      "metadata": {
        "colab": {
          "base_uri": "https://localhost:8080/",
          "height": 472
        },
        "id": "aQjrBvl9FNO9",
        "outputId": "c30628ee-0ef9-4632-ca4f-43fff722f62e"
      },
      "outputs": [
        {
          "output_type": "display_data",
          "data": {
            "text/plain": [
              "<Figure size 640x480 with 1 Axes>"
            ],
            "image/png": "[encoded data removed]"
          },
          "metadata": {}
        }
      ],
      "source": [
        "# Plot learning curve (with costs)\n",
        "costs = np.squeeze(logistic_regression_model['costs'])\n",
        "plt.plot(costs)\n",
        "plt.ylabel('cost')\n",
        "plt.xlabel('iterations (per hundreds)')\n",
        "plt.title(\"Training Cost for Learning Rate =\" + str(logistic_regression_model[\"learning_rate\"]))\n",
        "plt.show()"
      ]
    },
    {
      "cell_type": "markdown",
      "metadata": {
        "id": "FRwJfPhRFNO9"
      },
      "source": [
        "## 3. Analysis of Results (Points 30)\n",
        "\n",
        "The questions in this section will be part of your write up.\n",
        "\n",
        "### 3.1 Choice of learning rate (Points 10)\n",
        "\n",
        "**Reminder**:\n",
        "In order for Gradient Descent to work you must choose the learning rate wisely $\\left(\\alpha \\in (0,1)\\right)$. The learning rate $\\alpha$ determines how rapidly we update the parameters. If the learning rate is too large we may \"overshoot\" the optimal value. Similarly, if it is too small we will need too many iterations to converge to the best values. That's why it is crucial to use a well-tuned learning rate.\n",
        "**Task**\n",
        "- Run the training algorithm for 5 different learning rates [0.001, 0.001, 0.01, 0.1, 0.5, 0.75].\n",
        "- Plot the Cost for each experiment on the same figure.\n",
        "- Document your observations. (For example, what can you say about cost convergence for the smallest learning rate?)\n",
        "- Select the best learning rate and explain why you made that selection.\n",
        "- For the selected learning rate, would you change the number of iterations `num_iterations`? Why?\n"
      ]
    },
    {
      "cell_type": "code",
      "execution_count": 736,
      "metadata": {
        "colab": {
          "base_uri": "https://localhost:8080/",
          "height": 1000
        },
        "id": "T2-HIRrVFNO9",
        "outputId": "70d65159-68a2-41dd-f541-8e2dc954d64c"
      },
      "outputs": [
        {
          "output_type": "stream",
          "name": "stdout",
          "text": [
            "Training a model with learning rate: 0.001\n",
            "train accuracy: 99.621 %\n",
            "test accuracy: 99.637 %\n",
            "\n",
            "-------------------------------------------------------\n",
            "\n",
            "Training a model with learning rate: 0.01\n",
            "train accuracy: 99.747 %\n",
            "test accuracy: 99.716 %\n",
            "\n",
            "-------------------------------------------------------\n",
            "\n",
            "Training a model with learning rate: 0.1\n",
            "train accuracy: 99.842 %\n",
            "test accuracy: 99.858 %\n",
            "\n",
            "-------------------------------------------------------\n",
            "\n",
            "Training a model with learning rate: 0.5\n",
            "train accuracy: 99.905 %\n",
            "test accuracy: 99.874 %\n",
            "\n",
            "-------------------------------------------------------\n",
            "\n",
            "Training a model with learning rate: 0.75\n",
            "train accuracy: 99.921 %\n",
            "test accuracy: 99.874 %\n",
            "\n",
            "-------------------------------------------------------\n",
            "\n"
          ]
        },
        {
          "output_type": "display_data",
          "data": {
            "text/plain": [
              "<Figure size 640x480 with 1 Axes>"
            ],
            "image/png": "[encoded data removed]"
          },
          "metadata": {}
        }
      ],
      "source": [
        "learning_rates = [0.001, 0.01, 0.1, 0.5, 0.75]\n",
        "models = {}\n",
        "\n",
        "for lr in learning_rates:\n",
        "    print (\"Training a model with learning rate: \" + str(lr))\n",
        "    models[str(lr)] = model(train_set_x, train_set_y, test_set_x, test_set_y, num_iterations=1000, learning_rate=lr, print_cost=False)\n",
        "    print(\"train accuracy: {} %\".format(models[str(lr)][\"train_accuracy\"]))\n",
        "    print(\"test accuracy: {} %\".format(models[str(lr)][\"test_accuracy\"]))\n",
        "    print ('\\n' + \"-------------------------------------------------------\" + '\\n')\n",
        "\n",
        "for lr in learning_rates:\n",
        "    plt.plot(np.squeeze(models[str(lr)][\"costs\"]), label=str(models[str(lr)][\"learning_rate\"]))\n",
        "\n",
        "plt.ylabel('cost')\n",
        "plt.xlabel('iterations (hundreds)')\n",
        "plt.title(\"Training COST for Multiple Learning Rates\")\n",
        "legend = plt.legend(loc='upper center', shadow=True)\n",
        "frame = legend.get_frame()\n",
        "frame.set_facecolor('0.90')\n",
        "plt.show()"
      ]
    },
    {
      "cell_type": "markdown",
      "metadata": {
        "id": "4ZRJjQN9FNO9"
      },
      "source": [
        "Below are some of my observations:\n",
        "\n",
        "Let’s first talk about cost convergence. If we look at the plot, we observe that for smaller learning rates of 0.001 and 0.01, the cost decreases gradually over iterations and it seems to converge quite smoothly. But, for larger learning rates of like 0.1, 0.5, and 0.75, the cost initially decreases rapidly but may oscillate or even diverge later in the iterations. This behavior suggests that larger learning rates cause overshooting and instability in the optimization process.\n",
        "\n",
        "If we look at all the tested learning rates, 0.1 seems to perform the best. It achieves a pretty high training and test accuracy while maintaining a stable cost convergence. Although 0.5 and 0.75 also yield high accuracies, they exhibit more fluctuations in cost, which also indicates less stability in convergence. The learning rate of 0.1 seems to have a good balance between convergence speed and stability. It updates the parameters efficiently without causing significant oscillations or divergence in the cost function. Also, it achieves high accuracies on both the training and test sets, indicating good generalization performance.\n",
        "\n",
        "Since the learning rate of 0.1 demonstrates stable convergence and high accuracy within 1000 iterations, there might not be a strong need to adjust the number of iterations. However, if computational resources permit, it could be beneficial to increase the number of iterations slightly to ensure the model reaches its optimal performance or to monitor convergence behavior beyond the initial 1000 iterations."
      ]
    },
    {
      "cell_type": "markdown",
      "metadata": {
        "id": "hxb2JxFTFNO9"
      },
      "source": [
        "### 3.2 Training to classify numbers 4 and 8 (Points 10)\n",
        "\n",
        "#### Understanding the Current Dataset and Task\n",
        "- Initially, we have a dataset with images of digits (0 to 9).\n",
        "- Each image is stored in a matrix called `X`.\n",
        "- Each image has a label (the digit it represents), stored in a vector called `Y`.\n",
        "- Currently, we're only using images of 0s and 1s. So, `X` has images of 0s and 1s, and `Y` has labels 0 and 1 respectively.\n",
        "\n",
        "#### Changing the Task to Classify 4s and 8s\n",
        "- Now, we want to change the task. Instead of classifying 0s and 1s, we want to classify 4s and 8s.\n",
        "- This means we need to use images of 4s and 8s in `X` and their labels (4 and 8) in `Y`.\n",
        "\n",
        "### Adapting the Training and Prediction Routines\n",
        "- Can you rerun your training and prediction routines as is? Assuming X is comprised of the 4s and 8s images and Y has the corresponding labels (4 and 8).\n",
        "- What changes or additions are needed? Think about the role of the sigmoid function.\n",
        "- Please provide a detailed explanation of your solution."
      ]
    },
    {
      "cell_type": "markdown",
      "metadata": {
        "id": "KbHNgfaLFNO9"
      },
      "source": [
        "Okay, to adapt the training and prediction routines for classifying 4s and 8s instead of 0s and 1s, we'll need to some important changes. First, let’s think about Sigmoid Function adaptation. We'll still basically use the sigmoid function as the activation function for the final layer of the neural network, but we'll interpret its output differently. Instead of representing the probability of a single class (0 or 1), the sigmoid function will now output the probabilities for each class independently in our case it will be 4 and 8.\n",
        "\n",
        "Now, the second thing that we’ll have to change would be cost function adaption. Here we'll switch from binary cross-entropy to categorical cross-entropy, which is suitable for multi-class classification. Categorical cross-entropy measures the difference between the predicted probability distribution and the true distribution of class labels (4 and 8).\n",
        "\n",
        "The next thing is preparing the data. We would make sure that the training and test datasets contain images of 4s and 8s and their corresponding labels. We might have to remove images and labels corresponding to all the digits other than 4 and 8. We would also have to adjust the output layer of the neural network to have two units instead of one, representing class 4 and class 8. We would also have to modify the forward propagation and backward propagation routines accordingly to accommodate the changes. So, basically by keeping all these things in mind, we can make our neural network to be capable of effectively classifying between digits 4 and 8."
      ]
    },
    {
      "cell_type": "markdown",
      "metadata": {
        "id": "p8AaUDonFNO9"
      },
      "source": [
        "### 3.3 Try your one handwritten 0 or 1 (Points 10)\n",
        "\n",
        "**Tasks**\n",
        "1. Handwrite a zero or one in a white page.\n",
        "2. Take a picture of your number and crop the image with a squared layout.\n",
        "3. Save the picture to the data folder in JPG format and with filename `my_image.jpg`. Same folder where the MNIST dataset is located.\n",
        "4. Run the code below and document your observations.\n",
        "5. Is the model predicting the right number?\n",
        "    - Feel free to try different handwritten 1s and 0s at different illumination conditions.\n",
        "    - Examine the original MNIST images.\n",
        "        - Are there any differences between the MNIST images and your images?\n",
        "        - What is the contrast between the number and the background?\n",
        "            - HINT: `ImageEnhance.Contrast(factor)`. Try factor $\\in (1.1, 1.9)$.\n",
        "            - https://pillow.readthedocs.io/en/stable/reference/ImageEnhance.html\n",
        "        - What is the pixel value of the background?\n",
        "            - HINT: `ImageChops.invert()`\n",
        "            - https://pillow.readthedocs.io/en/stable/reference/ImageChops.html\n",
        "    - Do you need to update the code below to make your images better match the characteristics of the training data?\n",
        "    - Update the code accordingly.\n",
        "6. Make sure to try these steps with at least one 0 and one 1.\n",
        "7. Document your observations and intuition."
      ]
    },
    {
      "cell_type": "code",
      "execution_count": 737,
      "metadata": {
        "colab": {
          "base_uri": "https://localhost:8080/",
          "height": 448
        },
        "id": "m36fhFEhFNO9",
        "outputId": "c4b8ee26-04ef-4bf1-9728-acf35823e564"
      },
      "outputs": [
        {
          "output_type": "stream",
          "name": "stdout",
          "text": [
            "y = 1.0, your algorithm predicts a \"1 - one\" picture.\n"
          ]
        },
        {
          "output_type": "display_data",
          "data": {
            "text/plain": [
              "<Figure size 640x480 with 1 Axes>"
            ],
            "image/png": "[encoded data removed]"
          },
          "metadata": {}
        }
      ],
      "source": [
        "#############################################\n",
        "## YOUR CODE STARTS HERE\n",
        "# change this to the name of your image file and data folder\n",
        "my_image = \"1.jpg\"\n",
        "fname = \"./data/Images/\" + my_image\n",
        "## YOUR CODE ENDS HERE\n",
        "#############################################\n",
        "\n",
        "# Load and reshape the image to fit algorithm.\n",
        "image = Image.open(fname).convert('L').resize((num_px, num_px))\n",
        "\n",
        "# Do you need to manipulate your image to fit the training data?\n",
        "#############################################\n",
        "## YOUR CODE STARTS HERE\n",
        "# Adjust image contrast\n",
        "image = ImageChops.invert(image)\n",
        "enhancer = ImageEnhance.Contrast(image)\n",
        "image = enhancer.enhance(2)\n",
        "## YOUR CODE ENDS HERE\n",
        "#############################################\n",
        "\n",
        "# Preprocess the image to fit your algorithm.\n",
        "image = np.array(image)\n",
        "\n",
        "#Normalize\n",
        "image = image.astype(float) / 255.0\n",
        "# Display image\n",
        "plt.imshow(image)\n",
        "# Flatten inputs\n",
        "image = image.reshape((1, num_px * num_px)).T\n",
        "\n",
        "# Attempt at categorizing image\n",
        "my_predicted_image = predict(logistic_regression_model[\"w\"], logistic_regression_model[\"b\"], image)\n",
        "my_predicted_image = np.squeeze(my_predicted_image)\n",
        "\n",
        "print(\"y = \" + str(my_predicted_image)\n",
        "      + \", your algorithm predicts a \\\"\" + classes[int(my_predicted_image)] +  \"\\\" picture.\")"
      ]
    },
    {
      "cell_type": "markdown",
      "metadata": {
        "id": "TnkgZrxKFNO-"
      },
      "source": [
        "This part of the homework was quite time-consuming. I followed the instructions and generated handwritten images of both 0 and 1 on a white page. After taking pictures of these numbers, I cropped the images with a squared layout and saved them in the Images folder in the data folder. After that, I ran the code by adding some enhance and contrast code. The model correctly predicted the numbers and that tells us that the model was able to generalize well to new handwritten digits. I experimented with some different kinds of lighting and the good thing is that the model consistently made accurate predictions.\n",
        "\n",
        "In the beginning, I did face some issues in identifying the images. So I looked into many different kinds of things that could be making it harder to identify the images. I experimented with adjusting the contrast using the ImageEnhance. Contrast function with factors ranging from 1.1 to 2.0. I found that a factor of 2 provided optimal contrast without compromising the legibility of the digits. To determine the pixel value of the background, I utilized the ImageChops.invert function. The inverted image allowed me to identify the pixel value of the background. While the model performed well on my handwritten images, I realized that adjusting the contrast and ensuring consistent background pixel values really did help improve the alignment of my images with the characteristics of the training data."
      ]
    },
    {
      "cell_type": "markdown",
      "metadata": {
        "id": "4NV_gqksFNO-"
      },
      "source": [
        "# Congratulations you have completed your first homework!"
      ]
    }
  ],
  "metadata": {
    "kernelspec": {
      "display_name": "base",
      "language": "python",
      "name": "python3"
    },
    "language_info": {
      "codemirror_mode": {
        "name": "ipython",
        "version": 3
      },
      "file_extension": ".py",
      "mimetype": "text/x-python",
      "name": "python",
      "nbconvert_exporter": "python",
      "pygments_lexer": "ipython3",
      "version": "3.10.12"
    },
    "colab": {
      "provenance": []
    }
  },
  "nbformat": 4,
  "nbformat_minor": 0
}