{
 "cells": [
  {
   "cell_type": "markdown",
   "metadata": {},
   "source": [
    "# COSC 424/525 Homework 4\n",
    "In this homework you will learn about building convolutional neural networks, residual networks, and recurrent neural networks. The main objectives of the homework is to reinforce the theory discussed in class by building such architectures from scratch and apply some of these methods to real world problems.\n",
    "\n",
    "**General Instructions**\n",
    "1. All coding should be done in Python 3\n",
    "2. Always vectorize your code when possible\n",
    "3. Create a Code and Markdown cells after each subtask to test and document your progress.\n",
    "4. Comment your code thoroughly\n",
    "5. Use a separate write-up Word file to document the experiments specified below.\n",
    "5. Export your notebook and Word file in PDF format. Make sure that your PDF contains all notebook output.\n",
    "6. Submit the PDF files and your Jupyter Notebook.\n",
    "\n",
    "**Detailed Instructions**\n",
    "1. CNN Step by Step [Points 40]\n",
    "2. CNN Application [Points 20]\n",
    "3. ResNet50 Implementation [Points 20]\n",
    "4. RNN Application [Points 20]"
   ]
  },
  {
   "cell_type": "markdown",
   "metadata": {},
   "source": [
    "# 2. Convolutional Neural Networks: Application\n",
    "\n",
    "Credits: The problems in this notebook were mainly produced by Andrew NG's team and deeplearning.ai\n",
    "\n",
    "In this notebook you will\n",
    "- Create an image mood classifer using the PyTorch API\n",
    "- Learn how to use skorch to simplify model training\n",
    "- Display skorch captured statistics"
   ]
  },
  {
   "cell_type": "code",
   "execution_count": 5,
   "metadata": {},
   "outputs": [
    {
     "data": {
      "text/plain": [
       "<torch._C.Generator at 0x152bc98b0>"
      ]
     },
     "execution_count": 5,
     "metadata": {},
     "output_type": "execute_result"
    }
   ],
   "source": [
    "import random\n",
    "import numpy as np\n",
    "import h5py\n",
    "import matplotlib.pyplot as plt\n",
    "from skorch import NeuralNetBinaryClassifier\n",
    "from skorch.callbacks import EpochScoring\n",
    "from PIL import Image\n",
    "import pandas as pd\n",
    "import scipy as sc\n",
    "import torch\n",
    "from torchsummary import summary  # You may need to install this library [https://github.com/sksq96/pytorch-summary]\n",
    "\n",
    "%matplotlib inline\n",
    "\n",
    "# Seeds\n",
    "seed_num = 4\n",
    "random.seed(seed_num)\n",
    "np.random.seed(seed_num)\n",
    "torch.manual_seed(seed_num)"
   ]
  },
  {
   "cell_type": "markdown",
   "metadata": {},
   "source": [
    "## 2.1 - Load the Data and Split the Data into Train/Test Sets\n",
    "\n",
    "You'll be using the Happy House dataset for this part of the assignment, which contains images of peoples' faces. Your task will be to build a ConvNet that determines whether the people in the images are smiling or not -- because they only get to enter the house if they're smiling!  "
   ]
  },
  {
   "cell_type": "code",
   "execution_count": 6,
   "metadata": {},
   "outputs": [
    {
     "name": "stdout",
     "output_type": "stream",
     "text": [
      "number of training examples = 600\n",
      "number of test examples = 150\n",
      "X_train shape: (600, 64, 64, 3)\n",
      "Y_train shape: (600, 1)\n",
      "X_test shape: (150, 64, 64, 3)\n",
      "Y_test shape: (150, 1)\n"
     ]
    }
   ],
   "source": [
    "def load_happy_dataset(path_to_train, path_to_test):\n",
    "    \n",
    "    #load train set\n",
    "    with h5py.File(path_to_train, 'r') as train_dataset:\n",
    "        train_x = np.array(train_dataset['train_set_x'])\n",
    "        train_y = np.array(train_dataset['train_set_y'][:])\n",
    "        classes = train_dataset['list_classes']\n",
    "\n",
    "    with h5py.File(path_to_test) as test_dataset:\n",
    "        test_x = np.array(test_dataset['test_set_x'][:])\n",
    "        test_y = np.array(test_dataset['test_set_y'][:])\n",
    "\n",
    "    # y reshaped\n",
    "    train_y = train_y.reshape((1, train_x.shape[0]))\n",
    "    test_y = test_y.reshape((1, test_y.shape[0]))\n",
    "\n",
    "    return train_x, train_y, test_x, test_y, classes\n",
    "\n",
    "X_train_orig, Y_train_orig, X_test_orig, Y_test_orig, classes = load_happy_dataset(\"./data/happyhouse/train_happy.h5\", \"./data/happyhouse/test_happy.h5\")\n",
    "\n",
    "# Normalize image vectors\n",
    "X_train = X_train_orig/255.\n",
    "X_test = X_test_orig/255.\n",
    "\n",
    "# Reshape\n",
    "Y_train = Y_train_orig.T\n",
    "Y_test = Y_test_orig.T\n",
    "\n",
    "print (\"number of training examples = \" + str(X_train.shape[0]))\n",
    "print (\"number of test examples = \" + str(X_test.shape[0]))\n",
    "print (\"X_train shape: \" + str(X_train.shape))\n",
    "print (\"Y_train shape: \" + str(Y_train.shape))\n",
    "print (\"X_test shape: \" + str(X_test.shape))\n",
    "print (\"Y_test shape: \" + str(Y_test.shape))"
   ]
  },
  {
   "cell_type": "markdown",
   "metadata": {},
   "source": [
    "You can display the images contained in the dataset. Images are **64x64** pixels in RGB format (3 channels)."
   ]
  },
  {
   "cell_type": "code",
   "execution_count": 7,
   "metadata": {},
   "outputs": [
    {
     "data": {
      "image/png": "[encoded data removed]",
      "text/plain": [
       "<Figure size 640x480 with 1 Axes>"
      ]
     },
     "metadata": {},
     "output_type": "display_data"
    }
   ],
   "source": [
    "index = 124\n",
    "plt.imshow(X_train_orig[index]) #display sample training image\n",
    "plt.show()"
   ]
  },
  {
   "cell_type": "markdown",
   "metadata": {},
   "source": [
    "### 2.1.1 Create dataset objects\n",
    "\n",
    "Helper class and processes to produce a valid Torch dataset objects for the validation and training sets."
   ]
  },
  {
   "cell_type": "code",
   "execution_count": null,
   "metadata": {},
   "outputs": [
    {
     "ename": "",
     "evalue": "",
     "output_type": "error",
     "traceback": [
      "\u001b[1;31mThe Kernel crashed while executing code in the current cell or a previous cell. \n",
      "\u001b[1;31mPlease review the code in the cell(s) to identify a possible cause of the failure. \n",
      "\u001b[1;31mClick <a href='https://aka.ms/vscodeJupyterKernelCrash'>here</a> for more info. \n",
      "\u001b[1;31mView Jupyter <a href='command:jupyter.viewOutput'>log</a> for further details."
     ]
    }
   ],
   "source": [
    "###########################\n",
    "## YOUR CODE STARTS HERE\n",
    "\n",
    "# Store training and validations sets as tensors\n",
    "# Convert training and test data to a PyTorch Tensor [m,C,H,W].\n",
    "# Hint: Original data [m,H,W,C], check np.moveaxis()\n",
    "# Hint: PyTorch likes Float32 (e.g., dtype=torch.float32)\n",
    "\n",
    "###############\n",
    "# X_train_t = \n",
    "# X_test_t =\n",
    "# y_train_t = \n",
    "# y_test_t = \n",
    "# Convert numpy arrays to PyTorch tensors and adjust dimensions\n",
    "X_train_t = torch.tensor(np.moveaxis(X_train, -1, 1), dtype=torch.float32)\n",
    "X_test_t = torch.tensor(np.moveaxis(X_test, -1, 1), dtype=torch.float32)\n",
    "y_train_t = torch.tensor(Y_train, dtype=torch.float32)\n",
    "y_test_t = torch.tensor(Y_test, dtype=torch.float32)\n",
    "## YOUR CODE ENDS HERE\n",
    "##############################\n",
    "\n",
    "# Merging training and validation sets in a single dataset to\n",
    "# show later that skorch can take care of data splitting for us\n",
    "X_t = torch.cat((X_train_t, X_test_t))\n",
    "y_t = torch.cat((y_train_t, y_test_t))"
   ]
  },
  {
   "cell_type": "markdown",
   "metadata": {},
   "source": [
    "## 2.2 - Layers in PyTorch \n",
    "\n",
    "In the previous assignment, you created layers manually in numpy. In PyTorch, you don't have to write code directly to create layers. Rather, PyTorch has pre-defined layers you can use. \n",
    "\n",
    "When you create a layer in PyTorch, you are creating a function that takes some input and transforms it into an output you can reuse later. Nice and easy! "
   ]
  },
  {
   "cell_type": "markdown",
   "metadata": {},
   "source": [
    "### 2.2.1 - Create the Sequential Model\n",
    "\n",
    "The PyTorch Sequential API can be used to build simple models with layer operations that proceed in a sequential order. \n",
    "\n",
    "Actually, you can think of a Sequential model as behaving like a list of layers. Like Python lists, Sequential layers are ordered, and the order in which they are specified matters.  If your model is non-linear or contains layers with multiple inputs or outputs, a Sequential model wouldn't be the right choice!\n",
    "\n",
    "\n",
    "Implement the `happyModel` function below to build the following model: `CONV2D -> BATCHNORM -> RELU -> MAXPOOL -> FLATTEN -> DENSE -> SIGMOID`.\n",
    "\n",
    "Also, plug in the following parameters for all the steps:\n",
    "\n",
    " - [Conv2D](https://pytorch.org/docs/stable/generated/torch.nn.Conv2d.html#torch.nn.Conv2d): Use 32 7x7 filters, stride 1\n",
    " - [BatchNormalization](https://pytorch.org/docs/stable/generated/torch.nn.BatchNorm2d.html#torch.nn.BatchNorm2d): for axis 3\n",
    " - [ReLU](https://pytorch.org/docs/stable/generated/torch.nn.ReLU.html#torch.nn.ReLU)\n",
    " - [MaxPool2D](https://pytorch.org/docs/stable/generated/torch.nn.MaxPool2d.html#torch.nn.MaxPool2d): Using default parameters\n",
    " - [Flatten](https://pytorch.org/docs/stable/generated/torch.nn.Flatten.html) the previous output.\n",
    " - Fully-connected ([Linear](https://pytorch.org/docs/stable/generated/torch.nn.Linear.html#torch.nn.Linear)) layer: Apply a fully connected layer with 1 neuron. \n",
    " - [Sigmoid](https://pytorch.org/docs/stable/generated/torch.nn.Sigmoid.html#torch.nn.Sigmoid)\n"
   ]
  },
  {
   "cell_type": "code",
   "execution_count": null,
   "metadata": {
    "deletable": false,
    "nbgrader": {
     "cell_type": "code",
     "checksum": "95d28b191f257bdd5b70c7b8952559d5",
     "grade": false,
     "grade_id": "cell-0e56d3fc28b69aec",
     "locked": false,
     "schema_version": 3,
     "solution": true,
     "task": false
    }
   },
   "outputs": [],
   "source": [
    "# GRADED FUNCTION: happyModel\n",
    "\n",
    "class HappyModel(torch.nn.Module):\n",
    "    \"\"\"\n",
    "    Implements the forward propagation for the binary classification model:\n",
    "    ZEROPAD2D -> CONV2D -> BATCHNORM -> RELU -> MAXPOOL -> FLATTEN -> DENSE\n",
    "    \n",
    "    Note that for simplicity and grading purposes, you'll hard-code all the values\n",
    "    such as the stride and kernel (filter) sizes. \n",
    "    Normally, functions should take these values as function parameters.\n",
    "    \n",
    "    Arguments:\n",
    "    None\n",
    "\n",
    "    Returns:\n",
    "    model -- Pytorch model (object containing the information for the entire training process) \n",
    "    \"\"\"\n",
    "\n",
    "    def __init__(self):\n",
    "        super(HappyModel, self).__init__()\n",
    "\n",
    "        self.model = torch.nn.Sequential(\n",
    "                ###############################\n",
    "                # YOUR CODE STARTS HERE\n",
    "                # Conv2D with 32 7x7 filters, padding 'same' and stride of 1\n",
    "                torch.nn.Conv2d(3, 32, kernel_size=7, stride=1, padding='same'),\n",
    "                # BatchNormalization for each previous layer output channel\n",
    "                torch.nn.BatchNorm2d(32),\n",
    "                # ReLU\n",
    "                torch.nn.ReLU(),\n",
    "                # Max Pooling 2D with kernel size of 2, and padding and stride to default values\n",
    "                torch.nn.MaxPool2d(kernel_size=2),\n",
    "                # Flatten layer\n",
    "                torch.nn.Flatten(),\n",
    "                # Dense layer with 1 unit for output\n",
    "                torch.nn.Linear(32*32*32, 1),\n",
    "                # Sigmoid activation output\n",
    "                torch.nn.Sigmoid()\n",
    "                # YOUR CODE ENDS HERE\n",
    "                ###############################\n",
    "        )\n",
    "\n",
    "    def forward(self, x):\n",
    "        out = self.model(x)\n",
    "        return out"
   ]
  },
  {
   "cell_type": "code",
   "execution_count": null,
   "metadata": {
    "deletable": false,
    "editable": false,
    "nbgrader": {
     "cell_type": "code",
     "checksum": "8d3575c950e2e78149be2d05d671c80d",
     "grade": true,
     "grade_id": "cell-e3e1046e5c33d775",
     "locked": true,
     "points": 10,
     "schema_version": 3,
     "solution": false,
     "task": false
    }
   },
   "outputs": [
    {
     "name": "stdout",
     "output_type": "stream",
     "text": [
      "----------------------------------------------------------------\n",
      "        Layer (type)               Output Shape         Param #\n",
      "================================================================\n",
      "            Conv2d-1           [-1, 32, 64, 64]           4,736\n",
      "       BatchNorm2d-2           [-1, 32, 64, 64]              64\n",
      "              ReLU-3           [-1, 32, 64, 64]               0\n",
      "         MaxPool2d-4           [-1, 32, 32, 32]               0\n",
      "           Flatten-5                [-1, 32768]               0\n",
      "            Linear-6                    [-1, 1]          32,769\n",
      "           Sigmoid-7                    [-1, 1]               0\n",
      "================================================================\n",
      "Total params: 37,569\n",
      "Trainable params: 37,569\n",
      "Non-trainable params: 0\n",
      "----------------------------------------------------------------\n",
      "Input size (MB): 0.05\n",
      "Forward/backward pass size (MB): 3.50\n",
      "Params size (MB): 0.14\n",
      "Estimated Total Size (MB): 3.69\n",
      "----------------------------------------------------------------\n"
     ]
    }
   ],
   "source": [
    "summary(HappyModel(), input_size=(3,64,64))\n",
    "    \n",
    "output = [  ['Conv2D', (-1, 32, 64, 64), 4736],\n",
    "            ['BatchNormalization', (-1, 32, 64, 64), 128],\n",
    "            ['ReLU', (-1, 32, 64, 64), 0],\n",
    "            ['MaxPooling2D', (-1, 32, 32, 32), 0],\n",
    "            ['Flatten', (-1, 32768), 0],\n",
    "            ['Dense', (-1, 1), 32769],\n",
    "            ['Sigmoid', (-1, 1), 0]\n",
    "        ]"
   ]
  },
  {
   "cell_type": "markdown",
   "metadata": {},
   "source": [
    "#### Expected Output:\n",
    "\n",
    "```\n",
    "['Conv2D',              (-1, 32, 64, 64),   4736],\n",
    "['BatchNormalization',  (-1, 32, 64, 64),   128],\n",
    "['ReLU',                (-1, 32, 64, 64),   0],\n",
    "['MaxPooling2D',        (-1, 32, 32, 32),   0],\n",
    "['Flatten',             (-1, 32768),        0],\n",
    "['Dense',               (-1, 1),            32769],\n",
    "['Sigmoid',             (-1, 1),            0]\n",
    "```"
   ]
  },
  {
   "cell_type": "markdown",
   "metadata": {},
   "source": [
    "## 2.2.2 - Train and Evaluate the Model\n",
    "\n",
    "After creating the model, you will now learn how to use the Scikit-learn and Skorch to quickly train your model.\n",
    "\n",
    "- Step 1: Define Skorch object to wrap Torch model with parameters \n",
    "    - Optimizier: Adam\n",
    "    - Loss: BCEloss\n",
    "    - Learning rate: 0.0001\n",
    "    - max_epochs: 10,\n",
    "    - batch_size: 16\n",
    "- Step 2: Initialize model parameters using helper function\n",
    "    - Hint: check skorch attributes `initialize` and `module_.apply`\n",
    "- Step 3: Train model"
   ]
  },
  {
   "cell_type": "code",
   "execution_count": null,
   "metadata": {},
   "outputs": [],
   "source": [
    "# Helper function to initialize weights after model creation\n",
    "def init_weights(module):\n",
    "    if isinstance(module, torch.nn.Conv2d):\n",
    "        torch.nn.init.kaiming_normal_(module.weight, mode='fan_out', nonlinearity='relu')\n",
    "        if module.bias is not None:\n",
    "            torch.nn.init.constant_(module.bias, 0.3)\n",
    "    elif isinstance(module, torch.nn.Linear):\n",
    "        torch.nn.init.xavier_uniform_(module.weight)\n",
    "        if module.bias is not None:\n",
    "            torch.nn.init.constant_(module.bias, 0.3)\n",
    "\n",
    "\n",
    "############################\n",
    "# YOUR CODE STARTS HERE\n",
    "\n",
    "# Step 1: Create Skorch wrapper\n",
    "accuracy = EpochScoring('accuracy', lower_is_better=False)\n",
    "skorch_model = NeuralNetBinaryClassifier(\n",
    "    None,\n",
    "    criterion=None,\n",
    "    optimizer=None,\n",
    "    lr=0,\n",
    "    max_epochs=0,\n",
    "    batch_size=0,\n",
    "    callbacks=[accuracy],\n",
    ")\n",
    "\n",
    "# Step 2: Initialize weights\n",
    "skorch_model.initialize()\n",
    "skorch_model.module_.apply(init_weights)\n",
    "\n",
    "# Step 3: Train model\n",
    "skorch_model.fit(X_train_t, y_train_t)\n",
    "# YOUR CODE ENDS HERE\n",
    "##############################"
   ]
  },
  {
   "cell_type": "markdown",
   "metadata": {},
   "source": [
    "## 2.3 - History Object \n",
    "\n",
    "The history object is an output of the `.fit()` operation, and provides a record of all the loss and metric values in memory. It's stored as a dictionary that you can retrieve at `skorch_model.history`: "
   ]
  },
  {
   "cell_type": "code",
   "execution_count": null,
   "metadata": {},
   "outputs": [],
   "source": [
    "skorch_model.history"
   ]
  },
  {
   "cell_type": "markdown",
   "metadata": {},
   "source": [
    "Now visualize the loss over time using `history.history`: "
   ]
  },
  {
   "cell_type": "code",
   "execution_count": null,
   "metadata": {},
   "outputs": [
    {
     "ename": "",
     "evalue": "",
     "output_type": "error",
     "traceback": [
      "\u001b[1;31mThe Kernel crashed while executing code in the current cell or a previous cell. \n",
      "\u001b[1;31mPlease review the code in the cell(s) to identify a possible cause of the failure. \n",
      "\u001b[1;31mClick <a href='https://aka.ms/vscodeJupyterKernelCrash'>here</a> for more info. \n",
      "\u001b[1;31mView Jupyter <a href='command:jupyter.viewOutput'>log</a> for further details."
     ]
    }
   ],
   "source": [
    "# The history.history[\"loss\"] entry is a dictionary with as many values as epochs that the\n",
    "# model was trained on. \n",
    "df_loss_acc = pd.DataFrame(skorch_model.history)\n",
    "df_loss= df_loss_acc[['train_loss','valid_loss']]\n",
    "df_loss.rename(columns={'train_loss':'train','valid_loss':'validation'},inplace=True)\n",
    "df_acc= df_loss_acc[['accuracy','valid_acc']]\n",
    "df_acc.rename(columns={'accuracy':'train','valid_acc':'validation'},inplace=True)\n",
    "df_loss.plot(title='Model loss',figsize=(12,8)).set(xlabel='Epoch',ylabel='Loss')\n",
    "df_acc.plot(title='Model Accuracy',figsize=(12,8)).set(xlabel='Epoch',ylabel='Accuracy')"
   ]
  },
  {
   "cell_type": "markdown",
   "metadata": {},
   "source": [
    "**Congratulations**! You've finished the assignment. Nicely done! \n"
   ]
  }
 ],
 "metadata": {
  "coursera": {
   "course_slug": "convolutional-neural-networks",
   "graded_item_id": "bwbJV",
   "launcher_item_id": "0TkXB"
  },
  "kernelspec": {
   "display_name": "Python 3",
   "language": "python",
   "name": "python3"
  },
  "language_info": {
   "codemirror_mode": {
    "name": "ipython",
    "version": 3
   },
   "file_extension": ".py",
   "mimetype": "text/x-python",
   "name": "python",
   "nbconvert_exporter": "python",
   "pygments_lexer": "ipython3",
   "version": "3.11.5"
  }
 },
 "nbformat": 4,
 "nbformat_minor": 2
}
